{
 "cells": [
  {
   "cell_type": "code",
   "execution_count": 1,
   "id": "61642abf-fc11-43c7-a87e-d3b32b649e09",
   "metadata": {},
   "outputs": [],
   "source": [
    "import os\n",
    "import numpy as np\n",
    "import pandas as pd\n",
    "from tqdm import tqdm\n",
    "import matplotlib.pyplot as plt\n",
    "\n",
    "import torch\n",
    "import torch.nn as nn\n",
    "import torch.optim as optim\n",
    "from torch.utils.data import Dataset, DataLoader\n",
    "\n",
    "from sklearn.preprocessing import MinMaxScaler\n",
    "from sklearn.metrics import mean_absolute_error, mean_squared_error, r2_score"
   ]
  },
  {
   "cell_type": "code",
   "execution_count": 2,
   "id": "c4f6a87f-db6e-43cc-b158-3ec4848ba6f1",
   "metadata": {},
   "outputs": [],
   "source": [
    "import warnings\n",
    "warnings.filterwarnings(\"ignore\", category=FutureWarning)"
   ]
  },
  {
   "cell_type": "code",
   "execution_count": 3,
   "id": "7fbced95-3bbc-4409-adcd-b59dd515fe9e",
   "metadata": {},
   "outputs": [],
   "source": [
    "### Lab PC\n",
    "# === Load Train and Test Data ===\n",
    "# train_df = pd.read_csv(r\"C:\\Users\\jliu359\\Downloads\\Hpwh\\Train\\Train\\Merged_HPWH_Train_1s.csv\")\n",
    "# test_df = pd.read_csv(r\"C:\\Users\\jliu359\\Downloads\\Hpwh\\Test\\Test\\Merged_HPWH_Test_1s.csv\")"
   ]
  },
  {
   "cell_type": "markdown",
   "id": "9e5c50f8-0cf7-4211-ae54-a8c3bf7db1eb",
   "metadata": {},
   "source": [
    "### LSTM"
   ]
  },
  {
   "cell_type": "code",
   "execution_count": 5,
   "id": "60bb1067-253f-405a-a1fe-534e99a69ca9",
   "metadata": {},
   "outputs": [],
   "source": [
    "# ─────── Hyperparameters ───────\n",
    "SEQ_LEN     = 60        # Length of input sequence (seconds)\n",
    "BATCH_SIZE  = 64        # Batch size for training\n",
    "HIDDEN_SIZE = 64        # Number of hidden units in LSTM\n",
    "NUM_LAYERS  = 2         # Number of LSTM layers\n",
    "DROPOUT     = 0.2       # Dropout rate between LSTM layers\n",
    "LR          = 1e-3      # Learning rate for Adam optimizer\n",
    "MAX_EPOCHS  = 50        # Maximum number of training epochs\n",
    "PATIENCE    = 10         # Early stopping patience"
   ]
  },
  {
   "cell_type": "code",
   "execution_count": 6,
   "id": "c2aa5c62-f6f5-485a-88be-fe24382e7255",
   "metadata": {},
   "outputs": [
    {
     "name": "stdout",
     "output_type": "stream",
     "text": [
      "Using device: cuda\n",
      "Train samples: 176281 Test samples: 50281\n"
     ]
    }
   ],
   "source": [
    "FEATURES = [\n",
    "    \"Ambient Temp Trace(F)\",\n",
    "    \"Inlet Temp Trace(F)\",\n",
    "    \"Outlet Temp Trace (F)\",\n",
    "    \"Operational Mode Code\",\n",
    "]\n",
    "TARGET = \"Power (W)\"\n",
    "\n",
    "# ─────── Device configuration ───────\n",
    "device = torch.device(\"cuda\" if torch.cuda.is_available() else \"cpu\")\n",
    "print(\"Using device:\", device)\n",
    "\n",
    "# ─────── Load and scale data ───────\n",
    "train_df = pd.read_csv(r\"C:\\Users\\default.DESKTOP-C4C7JDR\\Downloads\\Trian\\Trian\\Merged_HPWH_Train_1s.csv\")\n",
    "test_df  = pd.read_csv(r\"C:\\Users\\default.DESKTOP-C4C7JDR\\Downloads\\Test\\Test\\Merged_HPWH_Test_1s.csv\")\n",
    "\n",
    "####Lab PC\n",
    "# train_df = pd.read_csv(r\"C:\\Users\\jliu359\\Downloads\\Hpwh\\Train\\Train\\Merged_HPWH_Train_1s.csv\")\n",
    "# test_df = pd.read_csv(r\"C:\\Users\\jliu359\\Downloads\\Hpwh\\Test\\Test\\Merged_HPWH_Test_1s.csv\")\n",
    "\n",
    "scaler_x = MinMaxScaler()\n",
    "scaler_y = MinMaxScaler()\n",
    "\n",
    "# Fit scalers on the training set and transform both the train and test\n",
    "X_train = scaler_x.fit_transform(train_df[FEATURES])\n",
    "y_train = scaler_y.fit_transform(train_df[[TARGET]]).squeeze(-1)\n",
    "X_test  = scaler_x.transform(test_df[FEATURES])\n",
    "y_test  = scaler_y.transform(test_df[[TARGET]]).squeeze(-1)\n",
    "\n",
    "# ─────── Dataset definition ───────\n",
    "class SequenceDataset(Dataset):\n",
    "    def __init__(self, X, y, seq_len):\n",
    "        # Store as tensors; slicing will happen in __getitem__\n",
    "        self.X = torch.tensor(X, dtype=torch.float32)\n",
    "        self.y = torch.tensor(y, dtype=torch.float32)\n",
    "        self.seq_len = seq_len\n",
    "\n",
    "    def __len__(self):\n",
    "        # Number of samples is total length minus one sequence\n",
    "        return self.X.size(0) - self.seq_len\n",
    "\n",
    "    def __getitem__(self, idx):\n",
    "        # Return one sequence window and its target value\n",
    "        x_seq = self.X[idx : idx + self.seq_len]  # Shape: [seq_len, num_features]\n",
    "        y_val = self.y[idx + self.seq_len]        # Scalar target\n",
    "        return x_seq, y_val\n",
    "\n",
    "# Instantiate datasets and loaders\n",
    "train_ds = SequenceDataset(X_train, y_train, SEQ_LEN)\n",
    "test_ds  = SequenceDataset(X_test,  y_test,  SEQ_LEN)\n",
    "print(\"Train samples:\", len(train_ds), \"Test samples:\", len(test_ds))"
   ]
  },
  {
   "cell_type": "code",
   "execution_count": 7,
   "id": "159ddb06-9d90-44ce-a478-47923967d593",
   "metadata": {},
   "outputs": [
    {
     "name": "stderr",
     "output_type": "stream",
     "text": [
      "                                                                              "
     ]
    },
    {
     "name": "stdout",
     "output_type": "stream",
     "text": [
      "Epoch 01 | Train MSE: 0.02831 | Val MSE: 0.05209\n"
     ]
    },
    {
     "name": "stderr",
     "output_type": "stream",
     "text": [
      "                                                                              "
     ]
    },
    {
     "name": "stdout",
     "output_type": "stream",
     "text": [
      "Epoch 02 | Train MSE: 0.02209 | Val MSE: 0.04755\n"
     ]
    },
    {
     "name": "stderr",
     "output_type": "stream",
     "text": [
      "                                                                               "
     ]
    },
    {
     "name": "stdout",
     "output_type": "stream",
     "text": [
      "Epoch 03 | Train MSE: 0.02231 | Val MSE: 0.05732\n"
     ]
    },
    {
     "name": "stderr",
     "output_type": "stream",
     "text": [
      "                                                                               "
     ]
    },
    {
     "name": "stdout",
     "output_type": "stream",
     "text": [
      "Epoch 04 | Train MSE: 0.01970 | Val MSE: 0.09836\n"
     ]
    },
    {
     "name": "stderr",
     "output_type": "stream",
     "text": [
      "                                                                               "
     ]
    },
    {
     "name": "stdout",
     "output_type": "stream",
     "text": [
      "Epoch 05 | Train MSE: 0.01942 | Val MSE: 0.08352\n"
     ]
    },
    {
     "name": "stderr",
     "output_type": "stream",
     "text": [
      "                                                                               "
     ]
    },
    {
     "name": "stdout",
     "output_type": "stream",
     "text": [
      "Epoch 06 | Train MSE: 0.01195 | Val MSE: 0.08796\n"
     ]
    },
    {
     "name": "stderr",
     "output_type": "stream",
     "text": [
      "                                                                               "
     ]
    },
    {
     "name": "stdout",
     "output_type": "stream",
     "text": [
      "Epoch 07 | Train MSE: 0.01418 | Val MSE: 0.08100\n"
     ]
    },
    {
     "name": "stderr",
     "output_type": "stream",
     "text": [
      "                                                                               "
     ]
    },
    {
     "name": "stdout",
     "output_type": "stream",
     "text": [
      "Epoch 08 | Train MSE: 0.00963 | Val MSE: 0.05901\n"
     ]
    },
    {
     "name": "stderr",
     "output_type": "stream",
     "text": [
      "                                                                               "
     ]
    },
    {
     "name": "stdout",
     "output_type": "stream",
     "text": [
      "Epoch 09 | Train MSE: 0.01157 | Val MSE: 0.05945\n"
     ]
    },
    {
     "name": "stderr",
     "output_type": "stream",
     "text": [
      "                                                                                "
     ]
    },
    {
     "name": "stdout",
     "output_type": "stream",
     "text": [
      "Epoch 10 | Train MSE: 0.00980 | Val MSE: 0.06494\n"
     ]
    },
    {
     "name": "stderr",
     "output_type": "stream",
     "text": [
      "                                                                                "
     ]
    },
    {
     "name": "stdout",
     "output_type": "stream",
     "text": [
      "Epoch 11 | Train MSE: 0.01023 | Val MSE: 0.11804\n"
     ]
    },
    {
     "name": "stderr",
     "output_type": "stream",
     "text": [
      "                                                                                "
     ]
    },
    {
     "name": "stdout",
     "output_type": "stream",
     "text": [
      "Epoch 12 | Train MSE: 0.01042 | Val MSE: 0.09927\n",
      "Early stopping at epoch 12 (no improvement for 10 epochs).\n"
     ]
    }
   ],
   "source": [
    "train_loader = DataLoader(\n",
    "    train_ds, batch_size=BATCH_SIZE, shuffle=True, pin_memory=True\n",
    ")\n",
    "test_loader = DataLoader(\n",
    "    test_ds, batch_size=BATCH_SIZE, shuffle=False, pin_memory=True\n",
    ")\n",
    "\n",
    "# ─────── Model definition ───────\n",
    "class HPWH_LSTM(nn.Module):\n",
    "    def __init__(self, input_size, hidden_size, num_layers, dropout):\n",
    "        super().__init__()\n",
    "        # Stacked LSTM with dropout between layers\n",
    "        self.lstm = nn.LSTM(\n",
    "            input_size,\n",
    "            hidden_size,\n",
    "            num_layers=num_layers,\n",
    "            batch_first=True,\n",
    "            dropout=dropout\n",
    "        )\n",
    "        # Final linear layer to map hidden state to output\n",
    "        self.fc = nn.Linear(hidden_size, 1)\n",
    "\n",
    "    def forward(self, x):\n",
    "        # x shape: [batch, seq_len, features]\n",
    "        _, (h_n, _) = self.lstm(x)\n",
    "        # Use the last layer's final hidden state\n",
    "        out = self.fc(h_n[-1])\n",
    "        return out.squeeze(-1)  # Shape: [batch]\n",
    "\n",
    "# Create model, loss, and optimizer\n",
    "model = HPWH_LSTM(\n",
    "    input_size=len(FEATURES),\n",
    "    hidden_size=HIDDEN_SIZE,\n",
    "    num_layers=NUM_LAYERS,\n",
    "    dropout=DROPOUT\n",
    ").to(device)\n",
    "\n",
    "criterion = nn.MSELoss()\n",
    "optimizer = optim.Adam(model.parameters(), lr=LR)\n",
    "\n",
    "# ─────── Training loop with early stopping ───────\n",
    "best_val_loss = float(\"inf\")\n",
    "no_improve    = 0\n",
    "\n",
    "for epoch in range(1, MAX_EPOCHS + 1):\n",
    "    # ---- Training ----\n",
    "    model.train()\n",
    "    train_loss = 0.0\n",
    "    loop = tqdm(train_loader, desc=f\"Epoch {epoch}/{MAX_EPOCHS}\", leave=False)\n",
    "    for Xb, yb in loop:\n",
    "        # Move batch to the correct device\n",
    "        Xb, yb = Xb.to(device, non_blocking=True), yb.to(device, non_blocking=True)\n",
    "        optimizer.zero_grad()\n",
    "        preds = model(Xb)\n",
    "        loss = criterion(preds, yb)\n",
    "        loss.backward()\n",
    "        optimizer.step()\n",
    "        train_loss += loss.item() * Xb.size(0)\n",
    "        loop.set_postfix(loss=loss.item())\n",
    "    train_loss /= len(train_loader.dataset)\n",
    "\n",
    "    # ---- Validation ----\n",
    "    model.eval()\n",
    "    val_loss = 0.0\n",
    "    with torch.no_grad():\n",
    "        for Xb, yb in test_loader:\n",
    "            Xb, yb = Xb.to(device, non_blocking=True), yb.to(device, non_blocking=True)\n",
    "            preds = model(Xb)\n",
    "            val_loss += criterion(preds, yb).item() * Xb.size(0)\n",
    "    val_loss /= len(test_loader.dataset)\n",
    "\n",
    "    print(f\"Epoch {epoch:02d} | Train MSE: {train_loss:.5f} | Val MSE: {val_loss:.5f}\")\n",
    "        # ---- Early stopping check ----\n",
    "    if val_loss < best_val_loss:\n",
    "        best_val_loss = val_loss\n",
    "        no_improve = 0\n",
    "        torch.save(model.state_dict(), \"best_hpwh_lstm.pt\")\n",
    "    else:\n",
    "        no_improve += 1\n",
    "        if no_improve >= PATIENCE:\n",
    "            print(f\"Early stopping at epoch {epoch} (no improvement for {PATIENCE} epochs).\")\n",
    "            break"
   ]
  },
  {
   "cell_type": "code",
   "execution_count": 8,
   "id": "d356fa1c-35c8-442d-9105-1ea82502df9b",
   "metadata": {},
   "outputs": [
    {
     "name": "stdout",
     "output_type": "stream",
     "text": [
      "\n",
      "Test MAE: 34.63 W | RMSE: 56.93 W | NRMSE: 0.2185 | R^2: 0.382\n"
     ]
    },
    {
     "data": {
      "image/png": "[encoded data removed]",
      "text/plain": [
       "<Figure size 640x480 with 1 Axes>"
      ]
     },
     "metadata": {},
     "output_type": "display_data"
    }
   ],
   "source": [
    "# ─────── Load best model & evaluate ───────\n",
    "model.load_state_dict(torch.load(\"best_hpwh_lstm.pt\"))\n",
    "model.eval()\n",
    "\n",
    "y_true_list, y_pred_list = [], []\n",
    "with torch.no_grad():\n",
    "    for Xb, yb in test_loader:\n",
    "        Xb = Xb.to(device)\n",
    "        preds = model(Xb).cpu().numpy()  # Move to CPU before converting\n",
    "        y_true_list.append(yb.numpy())\n",
    "        y_pred_list.append(preds)\n",
    "\n",
    "# Concatenate batches and inverse-transform\n",
    "y_true_scaled = np.concatenate(y_true_list).reshape(-1, 1)\n",
    "y_pred_scaled = np.concatenate(y_pred_list).reshape(-1, 1)\n",
    "\n",
    "y_true = scaler_y.inverse_transform(y_true_scaled).ravel()\n",
    "y_pred = scaler_y.inverse_transform(y_pred_scaled).ravel()\n",
    "\n",
    "mae  = mean_absolute_error(y_true, y_pred)\n",
    "mse  = mean_squared_error(y_true, y_pred)\n",
    "rmse = np.sqrt(mse)\n",
    "r2   = r2_score(y_true, y_pred)\n",
    "nrmse = rmse / (np.max(y_true) - np.min(y_true))  # NRMSE calculation\n",
    "print(f\"\\nTest MAE: {mae:.2f} W | RMSE: {rmse:.2f} W | NRMSE: {nrmse:.4f} | R^2: {r2:.3f}\")\n",
    "\n",
    "# ─────── Plot predictions vs. actual ───────\n",
    "import matplotlib.pyplot as plt\n",
    "\n",
    "plt.figure()\n",
    "plt.plot(y_pred, label=\"Predicted\")\n",
    "plt.plot(y_true, label=\"Actual\")\n",
    "plt.legend()\n",
    "plt.title(\"LSTM HPWH Power Prediction\")\n",
    "plt.xlabel(\"Time Step\")\n",
    "plt.ylabel(\"Power (W)\")\n",
    "plt.show()"
   ]
  },
  {
   "cell_type": "markdown",
   "id": "1e2c8fac-a611-4eaa-b446-048f2ce44168",
   "metadata": {},
   "source": [
    "### Capture Spike -LSTM"
   ]
  },
  {
   "cell_type": "code",
   "execution_count": 10,
   "id": "b12b9544-f547-43d4-a06c-7496195e2991",
   "metadata": {},
   "outputs": [
    {
     "name": "stdout",
     "output_type": "stream",
     "text": [
      "Using device: cuda\n",
      "Detected 6 spike samples out of 176341 total.\n"
     ]
    },
    {
     "name": "stderr",
     "output_type": "stream",
     "text": [
      "                                                             "
     ]
    },
    {
     "name": "stdout",
     "output_type": "stream",
     "text": [
      "Epoch 01 | Train W-MSE: 0.03068 | Val MSE: 0.04618\n"
     ]
    },
    {
     "name": "stderr",
     "output_type": "stream",
     "text": [
      "                                                             "
     ]
    },
    {
     "name": "stdout",
     "output_type": "stream",
     "text": [
      "Epoch 02 | Train W-MSE: 0.02102 | Val MSE: 0.07024\n"
     ]
    },
    {
     "name": "stderr",
     "output_type": "stream",
     "text": [
      "                                                             "
     ]
    },
    {
     "name": "stdout",
     "output_type": "stream",
     "text": [
      "Epoch 03 | Train W-MSE: 0.01499 | Val MSE: 0.05100\n"
     ]
    },
    {
     "name": "stderr",
     "output_type": "stream",
     "text": [
      "                                                             "
     ]
    },
    {
     "name": "stdout",
     "output_type": "stream",
     "text": [
      "Epoch 04 | Train W-MSE: 0.01270 | Val MSE: 0.10993\n"
     ]
    },
    {
     "name": "stderr",
     "output_type": "stream",
     "text": [
      "                                                             "
     ]
    },
    {
     "name": "stdout",
     "output_type": "stream",
     "text": [
      "Epoch 05 | Train W-MSE: 0.00896 | Val MSE: 0.06847\n"
     ]
    },
    {
     "name": "stderr",
     "output_type": "stream",
     "text": [
      "                                                             "
     ]
    },
    {
     "name": "stdout",
     "output_type": "stream",
     "text": [
      "Epoch 06 | Train W-MSE: 0.01365 | Val MSE: 0.10261\n"
     ]
    },
    {
     "name": "stderr",
     "output_type": "stream",
     "text": [
      "                                                             "
     ]
    },
    {
     "name": "stdout",
     "output_type": "stream",
     "text": [
      "Epoch 07 | Train W-MSE: 0.00773 | Val MSE: 0.05027\n"
     ]
    },
    {
     "name": "stderr",
     "output_type": "stream",
     "text": [
      "                                                             "
     ]
    },
    {
     "name": "stdout",
     "output_type": "stream",
     "text": [
      "Epoch 08 | Train W-MSE: 0.00819 | Val MSE: 0.05358\n"
     ]
    },
    {
     "name": "stderr",
     "output_type": "stream",
     "text": [
      "                                                             "
     ]
    },
    {
     "name": "stdout",
     "output_type": "stream",
     "text": [
      "Epoch 09 | Train W-MSE: 0.00711 | Val MSE: 0.06423\n"
     ]
    },
    {
     "name": "stderr",
     "output_type": "stream",
     "text": [
      "                                                              "
     ]
    },
    {
     "name": "stdout",
     "output_type": "stream",
     "text": [
      "Epoch 10 | Train W-MSE: 0.00621 | Val MSE: 0.05658\n"
     ]
    },
    {
     "name": "stderr",
     "output_type": "stream",
     "text": [
      "                                                              "
     ]
    },
    {
     "name": "stdout",
     "output_type": "stream",
     "text": [
      "Epoch 11 | Train W-MSE: 0.00772 | Val MSE: 0.08472\n",
      "Early stopping at epoch 11.\n",
      "\n",
      "Test MAE: 27.59 W | RMSE: 56.10 W | NRMSE: 0.2153 | R^2: 0.399\n"
     ]
    },
    {
     "data": {
      "image/png": "[encoded data removed]",
      "text/plain": [
       "<Figure size 640x480 with 1 Axes>"
      ]
     },
     "metadata": {},
     "output_type": "display_data"
    }
   ],
   "source": [
    "# hpwh_lstm_weighted_spikes_full.py\n",
    "\n",
    "import numpy as np\n",
    "import pandas as pd\n",
    "from tqdm import tqdm\n",
    "import matplotlib.pyplot as plt\n",
    "\n",
    "import torch\n",
    "import torch.nn as nn\n",
    "import torch.optim as optim\n",
    "from torch.utils.data import Dataset, DataLoader\n",
    "\n",
    "from sklearn.preprocessing import MinMaxScaler\n",
    "from sklearn.metrics import mean_absolute_error, mean_squared_error, root_mean_squared_error\n",
    "\n",
    "# ───── Hyperparameters ─────\n",
    "SEQ_LEN      = 60        # Number of time steps per sample\n",
    "BATCH_SIZE   = 64\n",
    "HIDDEN_SIZE  = 64\n",
    "NUM_LAYERS   = 2\n",
    "DROPOUT      = 0.3\n",
    "LR           = 1e-3\n",
    "MAX_EPOCHS   = 50\n",
    "PATIENCE     = 10\n",
    "SPIKE_WEIGHT = 5.0       # Weight multiplier for spike samples\n",
    "SPIKE_K      = 4    # Threshold: |Δy| > K * std(Δy) marks a spike\n",
    "\n",
    "FEATURES = [\n",
    "    \"Ambient Temp Trace(F)\",\n",
    "    \"Inlet Temp Trace(F)\",\n",
    "    \"Outlet Temp Trace (F)\",\n",
    "    \"Operational Mode Code\",\n",
    "]\n",
    "TARGET = \"Power (W)\"\n",
    "\n",
    "# ───── Device configuration ─────\n",
    "device = torch.device(\"cuda\" if torch.cuda.is_available() else \"cpu\")\n",
    "print(\"Using device:\", device)\n",
    "\n",
    "# ───── Load & normalize data ─────\n",
    "##Home PC\n",
    "train_df = pd.read_csv( r\"C:\\Users\\default.DESKTOP-C4C7JDR\\Downloads\\Trian\\Trian\\Merged_HPWH_Train_1s.csv\")\n",
    "test_df = pd.read_csv(r\"C:\\Users\\default.DESKTOP-C4C7JDR\\Downloads\\Test\\Test\\Merged_HPWH_Test_1s.csv\")\n",
    "\n",
    "####Lab PC\n",
    "# train_df = pd.read_csv(r\"C:\\Users\\jliu359\\Downloads\\Hpwh\\Train\\Train\\Merged_HPWH_Train_1s.csv\")\n",
    "# test_df = pd.read_csv(r\"C:\\Users\\jliu359\\Downloads\\Hpwh\\Test\\Test\\Merged_HPWH_Test_1s.csv\")\n",
    "\n",
    "scaler_x = MinMaxScaler()\n",
    "scaler_y = MinMaxScaler()\n",
    "\n",
    "X_train = scaler_x.fit_transform(train_df[FEATURES])\n",
    "y_train = scaler_y.fit_transform(train_df[[TARGET]]).ravel()\n",
    "X_test  = scaler_x.transform(test_df[FEATURES])\n",
    "y_test  = scaler_y.transform(test_df[[TARGET]]).ravel()\n",
    "\n",
    "# ───── Detect spikes events & assign weights ─────\n",
    "# Compute absolute first-differences\n",
    "dy = np.abs(np.diff(y_train, prepend=y_train[0]))\n",
    "threshold = SPIKE_K * np.std(dy)\n",
    "is_spike = (dy > threshold).astype(float)\n",
    "print(f\"Detected {int(is_spike.sum())} spike samples out of {len(is_spike)} total.\")\n",
    "\n",
    "# Build per-sample weight vector\n",
    "weights = np.where(is_spike > 0, SPIKE_WEIGHT, 1.0)\n",
    "\n",
    "# ─────Dataset definition ─────\n",
    "class SequenceDataset(Dataset):\n",
    "    def __init__(self, X, y, w, seq_len):\n",
    "        self.X = torch.tensor(X, dtype=torch.float32)\n",
    "        self.y = torch.tensor(y, dtype=torch.float32)\n",
    "        self.w = torch.tensor(w, dtype=torch.float32)\n",
    "        self.seq_len = seq_len\n",
    "\n",
    "    def __len__(self):\n",
    "        return len(self.X) - self.seq_len\n",
    "\n",
    "    def __getitem__(self, idx):\n",
    "        x_seq = self.X[idx : idx + self.seq_len]    # [seq_len, features]\n",
    "        y_val = self.y[idx + self.seq_len]          # scalar target\n",
    "        w_val = self.w[idx + self.seq_len]          # scalar weight\n",
    "        return x_seq, y_val, w_val\n",
    "\n",
    "train_ds = SequenceDataset(X_train, y_train, weights, SEQ_LEN)\n",
    "test_ds  = SequenceDataset(X_test,  y_test,  np.ones_like(y_test), SEQ_LEN)\n",
    "\n",
    "train_loader = DataLoader(train_ds, batch_size=BATCH_SIZE, shuffle=True, pin_memory=True)\n",
    "test_loader  = DataLoader(test_ds,  batch_size=BATCH_SIZE, shuffle=False, pin_memory=True)\n",
    "\n",
    "# ─────LSTM model ─────\n",
    "class HPWH_LSTM(nn.Module):\n",
    "    def __init__(self, input_size, hidden_size, num_layers, dropout):\n",
    "        super().__init__()\n",
    "        self.lstm = nn.LSTM(\n",
    "            input_size, hidden_size,\n",
    "            num_layers=num_layers,\n",
    "            batch_first=True,\n",
    "            dropout=dropout\n",
    "        )\n",
    "        self.fc = nn.Linear(hidden_size, 1)\n",
    "\n",
    "    def forward(self, x):\n",
    "        # x: [batch, seq_len, features]\n",
    "        _, (h_n, _) = self.lstm(x)\n",
    "        out = self.fc(h_n[-1])\n",
    "        return out.squeeze(-1)  # [batch]\n",
    "\n",
    "model = HPWH_LSTM(\n",
    "    input_size=len(FEATURES),\n",
    "    hidden_size=HIDDEN_SIZE,\n",
    "    num_layers=NUM_LAYERS,\n",
    "    dropout=DROPOUT\n",
    ").to(device)\n",
    "\n",
    "# ───── Weighted MSE loss ─────\n",
    "def weighted_mse(pred, target, weight):\n",
    "    return torch.mean(weight * (pred - target) ** 2)\n",
    "\n",
    "optimizer = optim.Adam(model.parameters(), lr=LR)\n",
    "\n",
    "# ───── Training loop with early stopping ─────\n",
    "best_val_loss = float(\"inf\")\n",
    "wait = 0\n",
    "\n",
    "for epoch in range(1, MAX_EPOCHS + 1):\n",
    "    # -- train --\n",
    "    model.train()\n",
    "    train_loss = 0.0\n",
    "    for Xb, yb, wb in tqdm(train_loader, desc=f\"Epoch {epoch}\", leave=False):\n",
    "        Xb, yb, wb = Xb.to(device), yb.to(device), wb.to(device)\n",
    "        optimizer.zero_grad()\n",
    "        preds = model(Xb)\n",
    "        loss = weighted_mse(preds, yb, wb)\n",
    "        loss.backward()\n",
    "        optimizer.step()\n",
    "        train_loss += loss.item() * Xb.size(0)\n",
    "    train_loss /= len(train_loader.dataset)\n",
    "\n",
    "    # -- validate (unweighted MSE) --\n",
    "    model.eval()\n",
    "    val_loss = 0.0\n",
    "    with torch.no_grad():\n",
    "        for Xb, yb, _ in test_loader:\n",
    "            Xb, yb = Xb.to(device), yb.to(device)\n",
    "            preds = model(Xb)\n",
    "            val_loss += nn.MSELoss()(preds, yb).item() * Xb.size(0)\n",
    "    val_loss /= len(test_loader.dataset)\n",
    "\n",
    "    print(f\"Epoch {epoch:02d} | Train W-MSE: {train_loss:.5f} | Val MSE: {val_loss:.5f}\")\n",
    "\n",
    "    # early stopping on validation MSE\n",
    "    if val_loss < best_val_loss:\n",
    "        best_val_loss = val_loss\n",
    "        wait = 0\n",
    "        torch.save(model.state_dict(), \"best_weighted_lstm.pt\")\n",
    "    else:\n",
    "        wait += 1\n",
    "        if wait >= PATIENCE:\n",
    "            print(f\"Early stopping at epoch {epoch}.\")\n",
    "            break\n",
    "\n",
    "# ───── Load best model & final evaluation ─────\n",
    "model.load_state_dict(torch.load(\"best_weighted_lstm.pt\"))\n",
    "model.eval()\n",
    "\n",
    "y_true_list, y_pred_list = [], []\n",
    "with torch.no_grad():\n",
    "    for Xb, yb, _ in test_loader:\n",
    "        Xb = Xb.to(device)\n",
    "        preds = model(Xb).cpu().numpy()\n",
    "        y_true_list.append(yb.numpy())\n",
    "        y_pred_list.append(preds)\n",
    "\n",
    "y_true = scaler_y.inverse_transform(\n",
    "    np.concatenate(y_true_list).reshape(-1, 1)\n",
    ").ravel()\n",
    "y_pred = scaler_y.inverse_transform(\n",
    "    np.concatenate(y_pred_list).reshape(-1, 1)\n",
    ").ravel()\n",
    "\n",
    "mae  = mean_absolute_error(y_true, y_pred)\n",
    "rmse = np.sqrt(mean_squared_error(y_true, y_pred))\n",
    "r2   = r2_score(y_true, y_pred)\n",
    "nrmse = rmse / (y_true.max() - y_true.min())\n",
    "print(f\"\\nTest MAE: {mae:.2f} W | RMSE: {rmse:.2f} W | NRMSE: {nrmse:.4f} | R^2: {r2:.3f}\")\n",
    "\n",
    "\n",
    "# ───── Plot predicted vs. actual ─────\n",
    "plt.figure()\n",
    "plt.plot(y_pred, label=\"Predicted\")\n",
    "plt.plot(y_true, label=\"Actual\")\n",
    "plt.legend()\n",
    "plt.title(\"Weighted-Loss LSTM HPWH Prediction\")\n",
    "plt.xlabel(\"Time Step\")\n",
    "plt.ylabel(\"Power (W)\")\n",
    "plt.show()"
   ]
  },
  {
   "cell_type": "markdown",
   "id": "4e3fb447-3e7c-46b5-97cb-790808b3eef7",
   "metadata": {},
   "source": [
    "### GRU"
   ]
  },
  {
   "cell_type": "code",
   "execution_count": 12,
   "id": "bf5a0661-52ad-489c-ac30-ee8968809cee",
   "metadata": {},
   "outputs": [
    {
     "name": "stdout",
     "output_type": "stream",
     "text": [
      "Using device: cuda\n"
     ]
    },
    {
     "name": "stderr",
     "output_type": "stream",
     "text": [
      "                                                                    "
     ]
    },
    {
     "name": "stdout",
     "output_type": "stream",
     "text": [
      "[GRU] Epoch 01 | Train MSE: 0.02719 | Val MSE: 0.06076\n"
     ]
    },
    {
     "name": "stderr",
     "output_type": "stream",
     "text": [
      "                                                                    "
     ]
    },
    {
     "name": "stdout",
     "output_type": "stream",
     "text": [
      "[GRU] Epoch 02 | Train MSE: 0.01381 | Val MSE: 0.05791\n"
     ]
    },
    {
     "name": "stderr",
     "output_type": "stream",
     "text": [
      "                                                                    "
     ]
    },
    {
     "name": "stdout",
     "output_type": "stream",
     "text": [
      "[GRU] Epoch 03 | Train MSE: 0.01002 | Val MSE: 0.08224\n"
     ]
    },
    {
     "name": "stderr",
     "output_type": "stream",
     "text": [
      "                                                                    "
     ]
    },
    {
     "name": "stdout",
     "output_type": "stream",
     "text": [
      "[GRU] Epoch 04 | Train MSE: 0.00916 | Val MSE: 0.08262\n"
     ]
    },
    {
     "name": "stderr",
     "output_type": "stream",
     "text": [
      "                                                                    "
     ]
    },
    {
     "name": "stdout",
     "output_type": "stream",
     "text": [
      "[GRU] Epoch 05 | Train MSE: 0.00967 | Val MSE: 0.05928\n"
     ]
    },
    {
     "name": "stderr",
     "output_type": "stream",
     "text": [
      "                                                                    "
     ]
    },
    {
     "name": "stdout",
     "output_type": "stream",
     "text": [
      "[GRU] Epoch 06 | Train MSE: 0.00690 | Val MSE: 0.09981\n"
     ]
    },
    {
     "name": "stderr",
     "output_type": "stream",
     "text": [
      "                                                                    "
     ]
    },
    {
     "name": "stdout",
     "output_type": "stream",
     "text": [
      "[GRU] Epoch 07 | Train MSE: 0.00670 | Val MSE: 0.06430\n"
     ]
    },
    {
     "name": "stderr",
     "output_type": "stream",
     "text": [
      "                                                                    "
     ]
    },
    {
     "name": "stdout",
     "output_type": "stream",
     "text": [
      "[GRU] Epoch 08 | Train MSE: 0.00593 | Val MSE: 0.10582\n"
     ]
    },
    {
     "name": "stderr",
     "output_type": "stream",
     "text": [
      "                                                                    "
     ]
    },
    {
     "name": "stdout",
     "output_type": "stream",
     "text": [
      "[GRU] Epoch 09 | Train MSE: 0.00653 | Val MSE: 0.09336\n"
     ]
    },
    {
     "name": "stderr",
     "output_type": "stream",
     "text": [
      "                                                                     "
     ]
    },
    {
     "name": "stdout",
     "output_type": "stream",
     "text": [
      "[GRU] Epoch 10 | Train MSE: 0.00573 | Val MSE: 0.06067\n"
     ]
    },
    {
     "name": "stderr",
     "output_type": "stream",
     "text": [
      "                                                                     "
     ]
    },
    {
     "name": "stdout",
     "output_type": "stream",
     "text": [
      "[GRU] Epoch 11 | Train MSE: 0.00837 | Val MSE: 0.10493\n"
     ]
    },
    {
     "name": "stderr",
     "output_type": "stream",
     "text": [
      "                                                                     "
     ]
    },
    {
     "name": "stdout",
     "output_type": "stream",
     "text": [
      "[GRU] Epoch 12 | Train MSE: 0.00551 | Val MSE: 0.09594\n",
      "Early stopping GRU.\n",
      "\n",
      "Test MAE: 35.11 W | RMSE: 62.82 W | NRMSE: 0.2411 | R^2: 0.247\n"
     ]
    },
    {
     "data": {
      "image/png": "[encoded data removed]",
      "text/plain": [
       "<Figure size 640x480 with 1 Axes>"
      ]
     },
     "metadata": {},
     "output_type": "display_data"
    }
   ],
   "source": [
    "# hpwh_gru.py\n",
    "\n",
    "import numpy as np\n",
    "import pandas as pd\n",
    "from tqdm import tqdm\n",
    "import matplotlib.pyplot as plt\n",
    "\n",
    "import torch\n",
    "import torch.nn as nn\n",
    "import torch.optim as optim\n",
    "from torch.utils.data import Dataset, DataLoader\n",
    "\n",
    "from sklearn.preprocessing import MinMaxScaler\n",
    "from sklearn.metrics import mean_absolute_error, mean_squared_error, root_mean_squared_error\n",
    "\n",
    "# ───── Hyperparameters ─────\n",
    "SEQ_LEN     = 60\n",
    "BATCH_SIZE  = 64\n",
    "HIDDEN_SIZE = 64\n",
    "NUM_LAYERS  = 2\n",
    "DROPOUT     = 0.3\n",
    "LR          = 1e-3\n",
    "MAX_EPOCHS  = 50\n",
    "PATIENCE    = 10\n",
    "\n",
    "FEATURES = [\n",
    "    \"Ambient Temp Trace(F)\",\n",
    "    \"Inlet Temp Trace(F)\",\n",
    "    \"Outlet Temp Trace (F)\",\n",
    "    \"Operational Mode Code\",\n",
    "]\n",
    "TARGET = \"Power (W)\"\n",
    "\n",
    "# ───── Device ─────\n",
    "device = torch.device(\"cuda\" if torch.cuda.is_available() else \"cpu\")\n",
    "print(\"Using device:\", device)\n",
    "\n",
    "# ───── Load & Scale ─────\n",
    "####Lab PC\n",
    "# train_df = pd.read_csv(r\"C:\\Users\\jliu359\\Downloads\\Hpwh\\Train\\Train\\Merged_HPWH_Train_1s.csv\")\n",
    "# test_df = pd.read_csv(r\"C:\\Users\\jliu359\\Downloads\\Hpwh\\Test\\Test\\Merged_HPWH_Test_1s.csv\")\n",
    "\n",
    "###Home PC\n",
    "train_df = pd.read_csv(r\"C:\\Users\\default.DESKTOP-C4C7JDR\\Downloads\\Trian\\Trian\\Merged_HPWH_Train_1s.csv\")\n",
    "test_df  = pd.read_csv(r\"C:\\Users\\default.DESKTOP-C4C7JDR\\Downloads\\Test\\Test\\Merged_HPWH_Test_1s.csv\")\n",
    "\n",
    "scaler_x = MinMaxScaler(); scaler_y = MinMaxScaler()\n",
    "X_train = scaler_x.fit_transform(train_df[FEATURES])\n",
    "y_train = scaler_y.fit_transform(train_df[[TARGET]]).squeeze(-1)\n",
    "X_test  = scaler_x.transform(test_df[FEATURES])\n",
    "y_test  = scaler_y.transform(test_df[[TARGET]]).squeeze(-1)\n",
    "\n",
    "# ───── Dataset ─────\n",
    "class SequenceDataset(Dataset):\n",
    "    def __init__(self, X, y, seq_len):\n",
    "        self.X = torch.tensor(X, dtype=torch.float32)\n",
    "        self.y = torch.tensor(y, dtype=torch.float32)\n",
    "        self.seq_len = seq_len\n",
    "    def __len__(self):\n",
    "        return self.X.size(0) - self.seq_len\n",
    "    def __getitem__(self, idx):\n",
    "        return (\n",
    "            self.X[idx:idx+self.seq_len],   # [seq_len, features]\n",
    "            self.y[idx+self.seq_len]        # scalar\n",
    "        )\n",
    "\n",
    "train_ds = SequenceDataset(X_train, y_train, SEQ_LEN)\n",
    "test_ds  = SequenceDataset(X_test,  y_test,  SEQ_LEN)\n",
    "train_loader = DataLoader(train_ds, batch_size=BATCH_SIZE, shuffle=True, pin_memory=True)\n",
    "test_loader  = DataLoader(test_ds,  batch_size=BATCH_SIZE, shuffle=False, pin_memory=True)\n",
    "\n",
    "# ───── Model ─────\n",
    "class HPWH_GRU(nn.Module):\n",
    "    def __init__(self, input_size, hidden_size, num_layers, dropout):\n",
    "        super().__init__()\n",
    "        self.gru = nn.GRU(\n",
    "            input_size, hidden_size,\n",
    "            num_layers=num_layers,\n",
    "            batch_first=True,\n",
    "            dropout=dropout\n",
    "        )\n",
    "        self.fc = nn.Linear(hidden_size, 1)\n",
    "    def forward(self, x):\n",
    "        # x: [batch, seq_len, features]\n",
    "        _, h_n = self.gru(x)\n",
    "        # h_n: [num_layers, batch, hidden_size]\n",
    "        out = self.fc(h_n[-1])           # use last layer\n",
    "        return out.squeeze(-1)           # [batch]\n",
    "\n",
    "model = HPWH_GRU(\n",
    "    input_size=len(FEATURES),\n",
    "    hidden_size=HIDDEN_SIZE,\n",
    "    num_layers=NUM_LAYERS,\n",
    "    dropout=DROPOUT\n",
    ").to(device)\n",
    "\n",
    "criterion = nn.MSELoss()\n",
    "optimizer = optim.Adam(model.parameters(), lr=LR)\n",
    "\n",
    "# ───── Training Loop ─────\n",
    "best_val = float('inf'); wait = 0\n",
    "for epoch in range(1, MAX_EPOCHS+1):\n",
    "    model.train(); train_loss = 0.\n",
    "    for Xb, yb in tqdm(train_loader, desc=f\"GRU Epoch {epoch}/{MAX_EPOCHS}\", leave=False):\n",
    "        Xb, yb = Xb.to(device), yb.to(device)\n",
    "        optimizer.zero_grad()\n",
    "        preds = model(Xb)\n",
    "        loss  = criterion(preds, yb)\n",
    "        loss.backward(); optimizer.step()\n",
    "        train_loss += loss.item() * Xb.size(0)\n",
    "    train_loss /= len(train_loader.dataset)\n",
    "\n",
    "    model.eval(); val_loss = 0.\n",
    "    with torch.no_grad():\n",
    "        for Xb, yb in test_loader:\n",
    "            Xb, yb = Xb.to(device), yb.to(device)\n",
    "            val_loss += criterion(model(Xb), yb).item() * Xb.size(0)\n",
    "    val_loss /= len(test_loader.dataset)\n",
    "\n",
    "    print(f\"[GRU] Epoch {epoch:02d} | Train MSE: {train_loss:.5f} | Val MSE: {val_loss:.5f}\")\n",
    "    if val_loss < best_val:\n",
    "        best_val = val_loss; wait = 0\n",
    "        torch.save(model.state_dict(), \"best_gru.pt\")\n",
    "    else:\n",
    "        wait += 1\n",
    "        if wait >= PATIENCE:\n",
    "            print(\"Early stopping GRU.\")\n",
    "            break\n",
    "\n",
    "# ───── Evaluate ─────\n",
    "model.load_state_dict(torch.load(\"best_gru.pt\"))\n",
    "model.eval()\n",
    "y_true, y_pred = [], []\n",
    "with torch.no_grad():\n",
    "    for Xb, yb in test_loader:\n",
    "        Xb = Xb.to(device)\n",
    "        out = model(Xb).cpu().numpy()\n",
    "        y_pred.append(out); y_true.append(yb.numpy())\n",
    "y_true = scaler_y.inverse_transform(np.concatenate(y_true).reshape(-1,1)).ravel()\n",
    "y_pred = scaler_y.inverse_transform(np.concatenate(y_pred).reshape(-1,1)).ravel()\n",
    "mae  = mean_absolute_error(y_true, y_pred)\n",
    "mse  = mean_squared_error(y_true, y_pred)\n",
    "rmse = np.sqrt(mse)\n",
    "r2   = r2_score(y_true, y_pred)\n",
    "nrmse = rmse / (np.max(y_true) - np.min(y_true))  # NRMSE calculation\n",
    "print(f\"\\nTest MAE: {mae:.2f} W | RMSE: {rmse:.2f} W | NRMSE: {nrmse:.4f} | R^2: {r2:.3f}\")\n",
    "\n",
    "# ───── Plot ─────\n",
    "plt.figure()\n",
    "plt.plot(y_pred, label=\"Pred\")\n",
    "plt.plot(y_true, label=\"True\")\n",
    "plt.title(\"GRU HPWH Prediction\")\n",
    "plt.xlabel(\"Time Step\"); plt.ylabel(\"Power (W)\")\n",
    "plt.legend(); plt.show()\n"
   ]
  },
  {
   "cell_type": "markdown",
   "id": "6a81edda-3dc0-4c61-8e2c-4fb580c2f863",
   "metadata": {},
   "source": [
    "### 1D_CNN"
   ]
  },
  {
   "cell_type": "code",
   "execution_count": 14,
   "id": "af3f2be1-6d80-4884-ae2e-c901430f6041",
   "metadata": {},
   "outputs": [
    {
     "name": "stderr",
     "output_type": "stream",
     "text": [
      "                                                              "
     ]
    },
    {
     "name": "stdout",
     "output_type": "stream",
     "text": [
      "[CNN] Ep01 Train MSE:0.02235 Val MSE:0.05405\n"
     ]
    },
    {
     "name": "stderr",
     "output_type": "stream",
     "text": [
      "                                                              "
     ]
    },
    {
     "name": "stdout",
     "output_type": "stream",
     "text": [
      "[CNN] Ep02 Train MSE:0.01314 Val MSE:0.05638\n"
     ]
    },
    {
     "name": "stderr",
     "output_type": "stream",
     "text": [
      "                                                              "
     ]
    },
    {
     "name": "stdout",
     "output_type": "stream",
     "text": [
      "[CNN] Ep03 Train MSE:0.01015 Val MSE:0.05859\n"
     ]
    },
    {
     "name": "stderr",
     "output_type": "stream",
     "text": [
      "                                                              "
     ]
    },
    {
     "name": "stdout",
     "output_type": "stream",
     "text": [
      "[CNN] Ep04 Train MSE:0.00845 Val MSE:0.05603\n"
     ]
    },
    {
     "name": "stderr",
     "output_type": "stream",
     "text": [
      "                                                              "
     ]
    },
    {
     "name": "stdout",
     "output_type": "stream",
     "text": [
      "[CNN] Ep05 Train MSE:0.00774 Val MSE:0.05836\n"
     ]
    },
    {
     "name": "stderr",
     "output_type": "stream",
     "text": [
      "                                                              "
     ]
    },
    {
     "name": "stdout",
     "output_type": "stream",
     "text": [
      "[CNN] Ep06 Train MSE:0.00747 Val MSE:0.05927\n"
     ]
    },
    {
     "name": "stderr",
     "output_type": "stream",
     "text": [
      "                                                              "
     ]
    },
    {
     "name": "stdout",
     "output_type": "stream",
     "text": [
      "[CNN] Ep07 Train MSE:0.00700 Val MSE:0.06101\n"
     ]
    },
    {
     "name": "stderr",
     "output_type": "stream",
     "text": [
      "                                                              "
     ]
    },
    {
     "name": "stdout",
     "output_type": "stream",
     "text": [
      "[CNN] Ep08 Train MSE:0.00674 Val MSE:0.09770\n"
     ]
    },
    {
     "name": "stderr",
     "output_type": "stream",
     "text": [
      "                                                              "
     ]
    },
    {
     "name": "stdout",
     "output_type": "stream",
     "text": [
      "[CNN] Ep09 Train MSE:0.00646 Val MSE:0.22836\n"
     ]
    },
    {
     "name": "stderr",
     "output_type": "stream",
     "text": [
      "                                                               "
     ]
    },
    {
     "name": "stdout",
     "output_type": "stream",
     "text": [
      "[CNN] Ep10 Train MSE:0.00625 Val MSE:0.28706\n"
     ]
    },
    {
     "name": "stderr",
     "output_type": "stream",
     "text": [
      "                                                               "
     ]
    },
    {
     "name": "stdout",
     "output_type": "stream",
     "text": [
      "[CNN] Ep11 Train MSE:0.00630 Val MSE:0.39130\n",
      "Early stopping CNN.\n",
      "\n",
      "Test MAE: 34.41 W | RMSE: 60.69 W | NRMSE: 0.2329 | R^2: 0.297\n"
     ]
    },
    {
     "data": {
      "image/png": "[encoded data removed]",
      "text/plain": [
       "<Figure size 640x480 with 1 Axes>"
      ]
     },
     "metadata": {},
     "output_type": "display_data"
    }
   ],
   "source": [
    "# hpwh_cnn.py\n",
    "\n",
    "import numpy as np\n",
    "import pandas as pd\n",
    "from tqdm import tqdm\n",
    "import matplotlib.pyplot as plt\n",
    "\n",
    "import torch\n",
    "import torch.nn as nn\n",
    "import torch.optim as optim\n",
    "from torch.utils.data import Dataset, DataLoader\n",
    "\n",
    "from sklearn.preprocessing import MinMaxScaler\n",
    "from sklearn.metrics import mean_absolute_error, mean_squared_error, root_mean_squared_error\n",
    "\n",
    "# ───── Hyperparameters ─────\n",
    "SEQ_LEN     = 60\n",
    "BATCH_SIZE  = 64\n",
    "NUM_FILTERS = 64\n",
    "KERNEL_SIZE = 3\n",
    "DROPOUT     = 0.3\n",
    "LR          = 1e-3\n",
    "MAX_EPOCHS  = 50\n",
    "PATIENCE    = 10\n",
    "\n",
    "FEATURES = [\n",
    "    \"Ambient Temp Trace(F)\",\n",
    "    \"Inlet Temp Trace(F)\",\n",
    "    \"Outlet Temp Trace (F)\",\n",
    "    \"Operational Mode Code\",\n",
    "]\n",
    "TARGET = \"Power (W)\"\n",
    "\n",
    "device = torch.device(\"cuda\" if torch.cuda.is_available() else \"cpu\")\n",
    "\n",
    "# ───── Load & Scale ─────\n",
    "train_df = pd.read_csv(r\"C:\\Users\\default.DESKTOP-C4C7JDR\\Downloads\\Trian\\Trian\\Merged_HPWH_Train_1s.csv\")\n",
    "test_df  = pd.read_csv(r\"C:\\Users\\default.DESKTOP-C4C7JDR\\Downloads\\Test\\Test\\Merged_HPWH_Test_1s.csv\")\n",
    "####Lab PC\n",
    "# train_df = pd.read_csv(r\"C:\\Users\\jliu359\\Downloads\\Hpwh\\Train\\Train\\Merged_HPWH_Train_1s.csv\")\n",
    "# test_df = pd.read_csv(r\"C:\\Users\\jliu359\\Downloads\\Hpwh\\Test\\Test\\Merged_HPWH_Test_1s.csv\")\n",
    "scaler_x = MinMaxScaler(); scaler_y = MinMaxScaler()\n",
    "X_train = scaler_x.fit_transform(train_df[FEATURES])\n",
    "y_train = scaler_y.fit_transform(train_df[[TARGET]]).squeeze(-1)\n",
    "X_test  = scaler_x.transform(test_df[FEATURES])\n",
    "y_test  = scaler_y.transform(test_df[[TARGET]]).squeeze(-1)\n",
    "\n",
    "# ───── Dataset ─────\n",
    "class SeqDataset(Dataset):\n",
    "    def __init__(self, X, y, seq_len):\n",
    "        self.X = torch.tensor(X, dtype=torch.float32)\n",
    "        self.y = torch.tensor(y, dtype=torch.float32)\n",
    "        self.seq_len = seq_len\n",
    "    def __len__(self):\n",
    "        return self.X.size(0) - self.seq_len\n",
    "    def __getitem__(self, idx):\n",
    "        # CNN expects [batch, channels, seq_len]\n",
    "        x = self.X[idx:idx+self.seq_len].transpose(0,1)  # [features, seq_len]\n",
    "        y = self.y[idx+self.seq_len]\n",
    "        return x, y\n",
    "\n",
    "train_dl = DataLoader(SeqDataset(X_train,y_train,SEQ_LEN), batch_size=BATCH_SIZE, shuffle=True, pin_memory=True)\n",
    "test_dl  = DataLoader(SeqDataset(X_test,y_test,SEQ_LEN),  batch_size=BATCH_SIZE, shuffle=False, pin_memory=True)\n",
    "\n",
    "# ───── Model ─────\n",
    "class HPWH_CNN(nn.Module):\n",
    "    def __init__(self, in_channels, num_filters, kernel_size, dropout):\n",
    "        super().__init__()\n",
    "        self.conv1 = nn.Conv1d(in_channels, num_filters, kernel_size, padding=kernel_size//2)\n",
    "        self.conv2 = nn.Conv1d(num_filters, num_filters, kernel_size, padding=kernel_size//2)\n",
    "        self.pool  = nn.AdaptiveAvgPool1d(1)\n",
    "        self.dropout = nn.Dropout(dropout)\n",
    "        self.fc    = nn.Linear(num_filters, 1)\n",
    "    def forward(self, x):\n",
    "        # x: [batch, features, seq_len]\n",
    "        x = torch.relu(self.conv1(x))\n",
    "        x = torch.relu(self.conv2(x))\n",
    "        x = self.pool(x).squeeze(-1)  # [batch, num_filters]\n",
    "        x = self.dropout(x)\n",
    "        return self.fc(x).squeeze(-1)\n",
    "\n",
    "model = HPWH_CNN(\n",
    "    in_channels=len(FEATURES),\n",
    "    num_filters=NUM_FILTERS,\n",
    "    kernel_size=KERNEL_SIZE,\n",
    "    dropout=DROPOUT\n",
    ").to(device)\n",
    "\n",
    "criterion = nn.MSELoss()\n",
    "optimizer = optim.Adam(model.parameters(), lr=LR)\n",
    "\n",
    "# ───── Train & Early Stop ─────\n",
    "best_val, wait = float('inf'), 0\n",
    "for epoch in range(1, MAX_EPOCHS+1):\n",
    "    model.train(); tloss=0.\n",
    "    for Xb, yb in tqdm(train_dl, desc=f\"CNN Ep {epoch}\", leave=False):\n",
    "        Xb, yb = Xb.to(device), yb.to(device)\n",
    "        optimizer.zero_grad()\n",
    "        out = model(Xb)\n",
    "        loss=criterion(out,yb)\n",
    "        loss.backward(); optimizer.step()\n",
    "        tloss+=loss.item()*Xb.size(0)\n",
    "    tloss/=len(train_dl.dataset)\n",
    "\n",
    "    model.eval(); vloss=0.\n",
    "    with torch.no_grad():\n",
    "        for Xb,yb in test_dl:\n",
    "            Xb,yb=Xb.to(device),yb.to(device)\n",
    "            vloss+=criterion(model(Xb),yb).item()*Xb.size(0)\n",
    "    vloss/=len(test_dl.dataset)\n",
    "\n",
    "    print(f\"[CNN] Ep{epoch:02d} Train MSE:{tloss:.5f} Val MSE:{vloss:.5f}\")\n",
    "    if vloss<best_val: best_val,wait=vloss,0; torch.save(model.state_dict(),\"best_cnn.pt\")\n",
    "    else:\n",
    "        wait+=1\n",
    "        if wait>=PATIENCE:\n",
    "            print(\"Early stopping CNN.\"); break\n",
    "\n",
    "# ───── Evaluate ─────\n",
    "model.load_state_dict(torch.load(\"best_cnn.pt\")); model.eval()\n",
    "yt,yp=[],[]\n",
    "with torch.no_grad():\n",
    "    for Xb,yb in test_dl:\n",
    "        out = model(Xb.to(device)).cpu().numpy()\n",
    "        yp.append(out); yt.append(yb.numpy())\n",
    "yt = scaler_y.inverse_transform(np.concatenate(yt).reshape(-1,1)).ravel()\n",
    "yp = scaler_y.inverse_transform(np.concatenate(yp).reshape(-1,1)).ravel()\n",
    "\n",
    "mae  = mean_absolute_error(yt, yp)\n",
    "rmse = np.sqrt(mean_squared_error(yt, yp))\n",
    "r2   = r2_score(yt, yp)\n",
    "nrmse = rmse / (yt.max() - yt.min())\n",
    "\n",
    "print(f\"\\nTest MAE: {mae:.2f} W | RMSE: {rmse:.2f} W | NRMSE: {nrmse:.4f} | R^2: {r2:.3f}\")\n",
    "\n",
    "\n",
    "plt.figure(); plt.plot(yp,label=\"Pred\"); plt.plot(yt,label=\"True\")\n",
    "plt.title(\"CNN HPWH\"); plt.xlabel(\"Step\"); plt.ylabel(\"W\"); plt.legend(); plt.show()"
   ]
  },
  {
   "cell_type": "markdown",
   "id": "986bf52f-fc94-4450-b5a5-cfe6e468e541",
   "metadata": {},
   "source": [
    "### Transformer"
   ]
  },
  {
   "cell_type": "code",
   "execution_count": 16,
   "id": "795fdbcb-384e-45b3-bdac-20fa66996a50",
   "metadata": {},
   "outputs": [
    {
     "name": "stderr",
     "output_type": "stream",
     "text": [
      "                                                               "
     ]
    },
    {
     "name": "stdout",
     "output_type": "stream",
     "text": [
      "[Trans] Ep01 Train MSE:0.02646 Val MSE:0.08555\n"
     ]
    },
    {
     "name": "stderr",
     "output_type": "stream",
     "text": [
      "                                                               "
     ]
    },
    {
     "name": "stdout",
     "output_type": "stream",
     "text": [
      "[Trans] Ep02 Train MSE:0.01367 Val MSE:0.10627\n"
     ]
    },
    {
     "name": "stderr",
     "output_type": "stream",
     "text": [
      "                                                               "
     ]
    },
    {
     "name": "stdout",
     "output_type": "stream",
     "text": [
      "[Trans] Ep03 Train MSE:0.01137 Val MSE:0.11061\n"
     ]
    },
    {
     "name": "stderr",
     "output_type": "stream",
     "text": [
      "                                                               "
     ]
    },
    {
     "name": "stdout",
     "output_type": "stream",
     "text": [
      "[Trans] Ep04 Train MSE:0.00963 Val MSE:0.09564\n"
     ]
    },
    {
     "name": "stderr",
     "output_type": "stream",
     "text": [
      "                                                               "
     ]
    },
    {
     "name": "stdout",
     "output_type": "stream",
     "text": [
      "[Trans] Ep05 Train MSE:0.00826 Val MSE:0.13322\n"
     ]
    },
    {
     "name": "stderr",
     "output_type": "stream",
     "text": [
      "                                                               "
     ]
    },
    {
     "name": "stdout",
     "output_type": "stream",
     "text": [
      "[Trans] Ep06 Train MSE:0.00707 Val MSE:0.09639\n"
     ]
    },
    {
     "name": "stderr",
     "output_type": "stream",
     "text": [
      "                                                               "
     ]
    },
    {
     "name": "stdout",
     "output_type": "stream",
     "text": [
      "[Trans] Ep07 Train MSE:0.00758 Val MSE:0.09770\n"
     ]
    },
    {
     "name": "stderr",
     "output_type": "stream",
     "text": [
      "                                                               "
     ]
    },
    {
     "name": "stdout",
     "output_type": "stream",
     "text": [
      "[Trans] Ep08 Train MSE:0.00538 Val MSE:0.07224\n"
     ]
    },
    {
     "name": "stderr",
     "output_type": "stream",
     "text": [
      "                                                               "
     ]
    },
    {
     "name": "stdout",
     "output_type": "stream",
     "text": [
      "[Trans] Ep09 Train MSE:0.00420 Val MSE:0.11200\n"
     ]
    },
    {
     "name": "stderr",
     "output_type": "stream",
     "text": [
      "                                                                "
     ]
    },
    {
     "name": "stdout",
     "output_type": "stream",
     "text": [
      "[Trans] Ep10 Train MSE:0.00417 Val MSE:0.13044\n"
     ]
    },
    {
     "name": "stderr",
     "output_type": "stream",
     "text": [
      "                                                                "
     ]
    },
    {
     "name": "stdout",
     "output_type": "stream",
     "text": [
      "[Trans] Ep11 Train MSE:0.00270 Val MSE:0.10855\n"
     ]
    },
    {
     "name": "stderr",
     "output_type": "stream",
     "text": [
      "                                                                "
     ]
    },
    {
     "name": "stdout",
     "output_type": "stream",
     "text": [
      "[Trans] Ep12 Train MSE:0.00297 Val MSE:0.09858\n"
     ]
    },
    {
     "name": "stderr",
     "output_type": "stream",
     "text": [
      "                                                                "
     ]
    },
    {
     "name": "stdout",
     "output_type": "stream",
     "text": [
      "[Trans] Ep13 Train MSE:0.00362 Val MSE:0.10668\n"
     ]
    },
    {
     "name": "stderr",
     "output_type": "stream",
     "text": [
      "                                                                "
     ]
    },
    {
     "name": "stdout",
     "output_type": "stream",
     "text": [
      "[Trans] Ep14 Train MSE:0.00243 Val MSE:0.10950\n"
     ]
    },
    {
     "name": "stderr",
     "output_type": "stream",
     "text": [
      "                                                                "
     ]
    },
    {
     "name": "stdout",
     "output_type": "stream",
     "text": [
      "[Trans] Ep15 Train MSE:0.00230 Val MSE:0.09408\n",
      "Early stopping Transformer.\n",
      "\n",
      "Test MAE: 39.66 W | RMSE: 70.17 W | NRMSE: 0.2693 | R^2: 0.061\n"
     ]
    },
    {
     "data": {
      "image/png": "[encoded data removed]",
      "text/plain": [
       "<Figure size 640x480 with 1 Axes>"
      ]
     },
     "metadata": {},
     "output_type": "display_data"
    }
   ],
   "source": [
    "# hpwh_transformer.py\n",
    "\n",
    "import math\n",
    "import numpy as np\n",
    "import pandas as pd\n",
    "from tqdm import tqdm\n",
    "import matplotlib.pyplot as plt\n",
    "\n",
    "import torch\n",
    "import torch.nn as nn\n",
    "import torch.optim as optim\n",
    "from torch.utils.data import Dataset, DataLoader\n",
    "\n",
    "from sklearn.preprocessing import MinMaxScaler\n",
    "from sklearn.metrics import mean_absolute_error, mean_squared_error, root_mean_squared_error\n",
    "\n",
    "# ───── Hyperparams ─────\n",
    "SEQ_LEN     = 60\n",
    "BATCH_SIZE  = 64\n",
    "D_MODEL     = 64    # embedding dim\n",
    "N_HEAD      = 4\n",
    "NUM_LAYERS  = 2\n",
    "DIM_FF      = 128\n",
    "DROPOUT     = 0.2\n",
    "LR          = 1e-3\n",
    "MAX_EPOCHS  = 50\n",
    "PATIENCE    = 7\n",
    "\n",
    "FEATURES = [\n",
    "    \"Ambient Temp Trace(F)\",\n",
    "    \"Inlet Temp Trace(F)\",\n",
    "    \"Outlet Temp Trace (F)\",\n",
    "    \"Operational Mode Code\",\n",
    "]\n",
    "TARGET = \"Power (W)\"\n",
    "device = torch.device(\"cuda\" if torch.cuda.is_available() else \"cpu\")\n",
    "\n",
    "# ───── Load & Scale ─────\n",
    "####Lab PC\n",
    "# train_df = pd.read_csv(r\"C:\\Users\\jliu359\\Downloads\\Hpwh\\Train\\Train\\Merged_HPWH_Train_1s.csv\")\n",
    "# test_df = pd.read_csv(r\"C:\\Users\\jliu359\\Downloads\\Hpwh\\Test\\Test\\Merged_HPWH_Test_1s.csv\")\n",
    "\n",
    "##Home PC\n",
    "train_df = pd.read_csv(r\"C:\\Users\\default.DESKTOP-C4C7JDR\\Downloads\\Trian\\Trian\\Merged_HPWH_Train_1s.csv\")\n",
    "test_df  = pd.read_csv(r\"C:\\Users\\default.DESKTOP-C4C7JDR\\Downloads\\Test\\Test\\Merged_HPWH_Test_1s.csv\")\n",
    "\n",
    "scaler_x = MinMaxScaler(); scaler_y = MinMaxScaler()\n",
    "X_train = scaler_x.fit_transform(train_df[FEATURES])\n",
    "y_train = scaler_y.fit_transform(train_df[[TARGET]]).squeeze(-1)\n",
    "X_test  = scaler_x.transform(test_df[FEATURES])\n",
    "y_test  = scaler_y.transform(test_df[[TARGET]]).squeeze(-1)\n",
    "\n",
    "# ───── Dataset ─────\n",
    "class SeqDataset(Dataset):\n",
    "    def __init__(self, X, y, seq_len):\n",
    "        self.X = torch.tensor(X, dtype=torch.float32)\n",
    "        self.y = torch.tensor(y, dtype=torch.float32)\n",
    "        self.seq_len = seq_len\n",
    "    def __len__(self):\n",
    "        return self.X.size(0)-self.seq_len\n",
    "    def __getitem__(self, idx):\n",
    "        # [seq_len, features]\n",
    "        return self.X[idx:idx+self.seq_len], self.y[idx+self.seq_len]\n",
    "\n",
    "train_dl = DataLoader(SeqDataset(X_train,y_train,SEQ_LEN), batch_size=BATCH_SIZE, shuffle=True, pin_memory=True)\n",
    "test_dl  = DataLoader(SeqDataset(X_test,y_test,SEQ_LEN),  batch_size=BATCH_SIZE, shuffle=False, pin_memory=True)\n",
    "\n",
    "# ───── Positional Encoding ─────\n",
    "class PosEncoding(nn.Module):\n",
    "    def __init__(self, d_model, max_len=1000):\n",
    "        super().__init__()\n",
    "        pe = torch.zeros(max_len, d_model)\n",
    "        pos = torch.arange(0, max_len).unsqueeze(1)\n",
    "        div = torch.exp(torch.arange(0, d_model,2)*(-math.log(10000.0)/d_model))\n",
    "        pe[:,0::2] = torch.sin(pos*div)\n",
    "        pe[:,1::2] = torch.cos(pos*div)\n",
    "        self.pe = pe.unsqueeze(0)  # [1,max_len,d_model]\n",
    "    def forward(self, x):\n",
    "        # x: [batch, seq_len, d_model]\n",
    "        return x + self.pe[:,:x.size(1),:].to(x.device)\n",
    "\n",
    "# ───── Model ─────\n",
    "class HPWH_Transformer(nn.Module):\n",
    "    def __init__(self, feature_size, d_model, nhead, num_layers, dim_ff, dropout):\n",
    "        super().__init__()\n",
    "        self.input_proj = nn.Linear(feature_size, d_model)\n",
    "        self.pos_enc    = PosEncoding(d_model)\n",
    "        encoder_layer = nn.TransformerEncoderLayer(\n",
    "            d_model=d_model,\n",
    "            nhead=nhead,\n",
    "            dim_feedforward=dim_ff,\n",
    "            dropout=dropout,\n",
    "            batch_first=True\n",
    "        )\n",
    "        self.transformer = nn.TransformerEncoder(encoder_layer, num_layers=num_layers)\n",
    "        self.fc = nn.Linear(d_model, 1)\n",
    "    def forward(self, x):\n",
    "        # x: [batch, seq_len, features]\n",
    "        x = self.input_proj(x)            # → [batch, seq_len, d_model]\n",
    "        x = self.pos_enc(x)\n",
    "        x = self.transformer(x)           # → [batch, seq_len, d_model]\n",
    "        out = self.fc(x[:,-1,:])          # take last time step\n",
    "        return out.squeeze(-1)\n",
    "\n",
    "model = HPWH_Transformer(\n",
    "    feature_size=len(FEATURES),\n",
    "    d_model=D_MODEL,\n",
    "    nhead=N_HEAD,\n",
    "    num_layers=NUM_LAYERS,\n",
    "    dim_ff=DIM_FF,\n",
    "    dropout=DROPOUT\n",
    ").to(device)\n",
    "\n",
    "criterion = nn.MSELoss()\n",
    "optimizer = optim.Adam(model.parameters(), lr=LR)\n",
    "\n",
    "# ───── Train & Early Stop ─────\n",
    "best_val, wait = float('inf'), 0\n",
    "for epoch in range(1, MAX_EPOCHS+1):\n",
    "    model.train(); tloss=0.\n",
    "    for Xb,yb in tqdm(train_dl, desc=f\"Trans Ep{epoch}\", leave=False):\n",
    "        Xb,yb = Xb.to(device), yb.to(device)\n",
    "        optimizer.zero_grad()\n",
    "        out = model(Xb)\n",
    "        loss=criterion(out,yb)\n",
    "        loss.backward(); optimizer.step()\n",
    "        tloss+=loss.item()*Xb.size(0)\n",
    "    tloss/=len(train_dl.dataset)\n",
    "\n",
    "    model.eval(); vloss=0.\n",
    "    with torch.no_grad():\n",
    "        for Xb,yb in test_dl:\n",
    "            Xb,yb = Xb.to(device), yb.to(device)\n",
    "            vloss+=criterion(model(Xb),yb).item()*Xb.size(0)\n",
    "    vloss/=len(test_dl.dataset)\n",
    "\n",
    "    print(f\"[Trans] Ep{epoch:02d} Train MSE:{tloss:.5f} Val MSE:{vloss:.5f}\")\n",
    "    if vloss<best_val: best_val,wait=vloss,0; torch.save(model.state_dict(),\"best_trans.pt\")\n",
    "    else:\n",
    "        wait+=1\n",
    "        if wait>=PATIENCE:\n",
    "            print(\"Early stopping Transformer.\"); break\n",
    "\n",
    "# ───── Evaluate ─────\n",
    "model.load_state_dict(torch.load(\"best_trans.pt\")); model.eval()\n",
    "yt,yp=[],[]\n",
    "with torch.no_grad():\n",
    "    for Xb,yb in test_dl:\n",
    "        out = model(Xb.to(device)).cpu().numpy()\n",
    "        yp.append(out); yt.append(yb.numpy())\n",
    "yt = scaler_y.inverse_transform(np.concatenate(yt).reshape(-1,1)).ravel()\n",
    "yp = scaler_y.inverse_transform(np.concatenate(yp).reshape(-1,1)).ravel()\n",
    "\n",
    "mae  = mean_absolute_error(yt, yp)\n",
    "rmse = np.sqrt(mean_squared_error(yt, yp))\n",
    "r2   = r2_score(yt, yp)\n",
    "nrmse = rmse / (yt.max() - yt.min())\n",
    "\n",
    "print(f\"\\nTest MAE: {mae:.2f} W | RMSE: {rmse:.2f} W | NRMSE: {nrmse:.4f} | R^2: {r2:.3f}\")\n",
    "\n",
    "\n",
    "plt.figure(); plt.plot(yp,label=\"Pred\"); plt.plot(yt,label=\"True\")\n",
    "plt.title(\"Transformer HPWH\"); plt.xlabel(\"Step\"); plt.ylabel(\"W\"); plt.legend(); plt.show()"
   ]
  },
  {
   "cell_type": "markdown",
   "id": "45da90d5-6bf7-40a5-8678-e1c2f9dbac1c",
   "metadata": {},
   "source": [
    "### Energy Comsumption Analysis"
   ]
  },
  {
   "cell_type": "code",
   "execution_count": 18,
   "id": "182db1dd-bb2d-46f6-b3f3-eb5c6da06eef",
   "metadata": {},
   "outputs": [
    {
     "ename": "FileNotFoundError",
     "evalue": "[Errno 2] No such file or directory: 'C:\\\\Users\\\\jliu359\\\\Downloads\\\\Hpwh\\\\Train\\\\Train\\\\Merged_HPWH_Train_1s.csv'",
     "output_type": "error",
     "traceback": [
      "\u001b[1;31m---------------------------------------------------------------------------\u001b[0m",
      "\u001b[1;31mFileNotFoundError\u001b[0m                         Traceback (most recent call last)",
      "Cell \u001b[1;32mIn[18], line 2\u001b[0m\n\u001b[0;32m      1\u001b[0m \u001b[38;5;66;03m#  Load & preprocess dataset\u001b[39;00m\n\u001b[1;32m----> 2\u001b[0m train_df \u001b[38;5;241m=\u001b[39m pd\u001b[38;5;241m.\u001b[39mread_csv(\n\u001b[0;32m      3\u001b[0m     \u001b[38;5;124mr\u001b[39m\u001b[38;5;124m\"\u001b[39m\u001b[38;5;124mC:\u001b[39m\u001b[38;5;124m\\\u001b[39m\u001b[38;5;124mUsers\u001b[39m\u001b[38;5;124m\\\u001b[39m\u001b[38;5;124mjliu359\u001b[39m\u001b[38;5;124m\\\u001b[39m\u001b[38;5;124mDownloads\u001b[39m\u001b[38;5;124m\\\u001b[39m\u001b[38;5;124mHpwh\u001b[39m\u001b[38;5;124m\\\u001b[39m\u001b[38;5;124mTrain\u001b[39m\u001b[38;5;124m\\\u001b[39m\u001b[38;5;124mTrain\u001b[39m\u001b[38;5;124m\\\u001b[39m\u001b[38;5;124mMerged_HPWH_Train_1s.csv\u001b[39m\u001b[38;5;124m\"\u001b[39m,\n\u001b[0;32m      4\u001b[0m     parse_dates\u001b[38;5;241m=\u001b[39m[\u001b[38;5;124m\"\u001b[39m\u001b[38;5;124mTimestamp\u001b[39m\u001b[38;5;124m\"\u001b[39m]\n\u001b[0;32m      5\u001b[0m )\n\u001b[0;32m      6\u001b[0m test_df \u001b[38;5;241m=\u001b[39m pd\u001b[38;5;241m.\u001b[39mread_csv(\n\u001b[0;32m      7\u001b[0m     \u001b[38;5;124mr\u001b[39m\u001b[38;5;124m\"\u001b[39m\u001b[38;5;124mC:\u001b[39m\u001b[38;5;124m\\\u001b[39m\u001b[38;5;124mUsers\u001b[39m\u001b[38;5;124m\\\u001b[39m\u001b[38;5;124mjliu359\u001b[39m\u001b[38;5;124m\\\u001b[39m\u001b[38;5;124mDownloads\u001b[39m\u001b[38;5;124m\\\u001b[39m\u001b[38;5;124mHpwh\u001b[39m\u001b[38;5;124m\\\u001b[39m\u001b[38;5;124mTest\u001b[39m\u001b[38;5;124m\\\u001b[39m\u001b[38;5;124mTest\u001b[39m\u001b[38;5;124m\\\u001b[39m\u001b[38;5;124mMerged_HPWH_Test_1s.csv\u001b[39m\u001b[38;5;124m\"\u001b[39m,\n\u001b[0;32m      8\u001b[0m     parse_dates\u001b[38;5;241m=\u001b[39m[\u001b[38;5;124m\"\u001b[39m\u001b[38;5;124mTimestamp\u001b[39m\u001b[38;5;124m\"\u001b[39m]\n\u001b[0;32m      9\u001b[0m )\n\u001b[0;32m     10\u001b[0m \u001b[38;5;28;01mfor\u001b[39;00m df \u001b[38;5;129;01min\u001b[39;00m (train_df, test_df):\n",
      "File \u001b[1;32m~\\anaconda3\\Lib\\site-packages\\pandas\\io\\parsers\\readers.py:1026\u001b[0m, in \u001b[0;36mread_csv\u001b[1;34m(filepath_or_buffer, sep, delimiter, header, names, index_col, usecols, dtype, engine, converters, true_values, false_values, skipinitialspace, skiprows, skipfooter, nrows, na_values, keep_default_na, na_filter, verbose, skip_blank_lines, parse_dates, infer_datetime_format, keep_date_col, date_parser, date_format, dayfirst, cache_dates, iterator, chunksize, compression, thousands, decimal, lineterminator, quotechar, quoting, doublequote, escapechar, comment, encoding, encoding_errors, dialect, on_bad_lines, delim_whitespace, low_memory, memory_map, float_precision, storage_options, dtype_backend)\u001b[0m\n\u001b[0;32m   1013\u001b[0m kwds_defaults \u001b[38;5;241m=\u001b[39m _refine_defaults_read(\n\u001b[0;32m   1014\u001b[0m     dialect,\n\u001b[0;32m   1015\u001b[0m     delimiter,\n\u001b[1;32m   (...)\u001b[0m\n\u001b[0;32m   1022\u001b[0m     dtype_backend\u001b[38;5;241m=\u001b[39mdtype_backend,\n\u001b[0;32m   1023\u001b[0m )\n\u001b[0;32m   1024\u001b[0m kwds\u001b[38;5;241m.\u001b[39mupdate(kwds_defaults)\n\u001b[1;32m-> 1026\u001b[0m \u001b[38;5;28;01mreturn\u001b[39;00m _read(filepath_or_buffer, kwds)\n",
      "File \u001b[1;32m~\\anaconda3\\Lib\\site-packages\\pandas\\io\\parsers\\readers.py:620\u001b[0m, in \u001b[0;36m_read\u001b[1;34m(filepath_or_buffer, kwds)\u001b[0m\n\u001b[0;32m    617\u001b[0m _validate_names(kwds\u001b[38;5;241m.\u001b[39mget(\u001b[38;5;124m\"\u001b[39m\u001b[38;5;124mnames\u001b[39m\u001b[38;5;124m\"\u001b[39m, \u001b[38;5;28;01mNone\u001b[39;00m))\n\u001b[0;32m    619\u001b[0m \u001b[38;5;66;03m# Create the parser.\u001b[39;00m\n\u001b[1;32m--> 620\u001b[0m parser \u001b[38;5;241m=\u001b[39m TextFileReader(filepath_or_buffer, \u001b[38;5;241m*\u001b[39m\u001b[38;5;241m*\u001b[39mkwds)\n\u001b[0;32m    622\u001b[0m \u001b[38;5;28;01mif\u001b[39;00m chunksize \u001b[38;5;129;01mor\u001b[39;00m iterator:\n\u001b[0;32m    623\u001b[0m     \u001b[38;5;28;01mreturn\u001b[39;00m parser\n",
      "File \u001b[1;32m~\\anaconda3\\Lib\\site-packages\\pandas\\io\\parsers\\readers.py:1620\u001b[0m, in \u001b[0;36mTextFileReader.__init__\u001b[1;34m(self, f, engine, **kwds)\u001b[0m\n\u001b[0;32m   1617\u001b[0m     \u001b[38;5;28mself\u001b[39m\u001b[38;5;241m.\u001b[39moptions[\u001b[38;5;124m\"\u001b[39m\u001b[38;5;124mhas_index_names\u001b[39m\u001b[38;5;124m\"\u001b[39m] \u001b[38;5;241m=\u001b[39m kwds[\u001b[38;5;124m\"\u001b[39m\u001b[38;5;124mhas_index_names\u001b[39m\u001b[38;5;124m\"\u001b[39m]\n\u001b[0;32m   1619\u001b[0m \u001b[38;5;28mself\u001b[39m\u001b[38;5;241m.\u001b[39mhandles: IOHandles \u001b[38;5;241m|\u001b[39m \u001b[38;5;28;01mNone\u001b[39;00m \u001b[38;5;241m=\u001b[39m \u001b[38;5;28;01mNone\u001b[39;00m\n\u001b[1;32m-> 1620\u001b[0m \u001b[38;5;28mself\u001b[39m\u001b[38;5;241m.\u001b[39m_engine \u001b[38;5;241m=\u001b[39m \u001b[38;5;28mself\u001b[39m\u001b[38;5;241m.\u001b[39m_make_engine(f, \u001b[38;5;28mself\u001b[39m\u001b[38;5;241m.\u001b[39mengine)\n",
      "File \u001b[1;32m~\\anaconda3\\Lib\\site-packages\\pandas\\io\\parsers\\readers.py:1880\u001b[0m, in \u001b[0;36mTextFileReader._make_engine\u001b[1;34m(self, f, engine)\u001b[0m\n\u001b[0;32m   1878\u001b[0m     \u001b[38;5;28;01mif\u001b[39;00m \u001b[38;5;124m\"\u001b[39m\u001b[38;5;124mb\u001b[39m\u001b[38;5;124m\"\u001b[39m \u001b[38;5;129;01mnot\u001b[39;00m \u001b[38;5;129;01min\u001b[39;00m mode:\n\u001b[0;32m   1879\u001b[0m         mode \u001b[38;5;241m+\u001b[39m\u001b[38;5;241m=\u001b[39m \u001b[38;5;124m\"\u001b[39m\u001b[38;5;124mb\u001b[39m\u001b[38;5;124m\"\u001b[39m\n\u001b[1;32m-> 1880\u001b[0m \u001b[38;5;28mself\u001b[39m\u001b[38;5;241m.\u001b[39mhandles \u001b[38;5;241m=\u001b[39m get_handle(\n\u001b[0;32m   1881\u001b[0m     f,\n\u001b[0;32m   1882\u001b[0m     mode,\n\u001b[0;32m   1883\u001b[0m     encoding\u001b[38;5;241m=\u001b[39m\u001b[38;5;28mself\u001b[39m\u001b[38;5;241m.\u001b[39moptions\u001b[38;5;241m.\u001b[39mget(\u001b[38;5;124m\"\u001b[39m\u001b[38;5;124mencoding\u001b[39m\u001b[38;5;124m\"\u001b[39m, \u001b[38;5;28;01mNone\u001b[39;00m),\n\u001b[0;32m   1884\u001b[0m     compression\u001b[38;5;241m=\u001b[39m\u001b[38;5;28mself\u001b[39m\u001b[38;5;241m.\u001b[39moptions\u001b[38;5;241m.\u001b[39mget(\u001b[38;5;124m\"\u001b[39m\u001b[38;5;124mcompression\u001b[39m\u001b[38;5;124m\"\u001b[39m, \u001b[38;5;28;01mNone\u001b[39;00m),\n\u001b[0;32m   1885\u001b[0m     memory_map\u001b[38;5;241m=\u001b[39m\u001b[38;5;28mself\u001b[39m\u001b[38;5;241m.\u001b[39moptions\u001b[38;5;241m.\u001b[39mget(\u001b[38;5;124m\"\u001b[39m\u001b[38;5;124mmemory_map\u001b[39m\u001b[38;5;124m\"\u001b[39m, \u001b[38;5;28;01mFalse\u001b[39;00m),\n\u001b[0;32m   1886\u001b[0m     is_text\u001b[38;5;241m=\u001b[39mis_text,\n\u001b[0;32m   1887\u001b[0m     errors\u001b[38;5;241m=\u001b[39m\u001b[38;5;28mself\u001b[39m\u001b[38;5;241m.\u001b[39moptions\u001b[38;5;241m.\u001b[39mget(\u001b[38;5;124m\"\u001b[39m\u001b[38;5;124mencoding_errors\u001b[39m\u001b[38;5;124m\"\u001b[39m, \u001b[38;5;124m\"\u001b[39m\u001b[38;5;124mstrict\u001b[39m\u001b[38;5;124m\"\u001b[39m),\n\u001b[0;32m   1888\u001b[0m     storage_options\u001b[38;5;241m=\u001b[39m\u001b[38;5;28mself\u001b[39m\u001b[38;5;241m.\u001b[39moptions\u001b[38;5;241m.\u001b[39mget(\u001b[38;5;124m\"\u001b[39m\u001b[38;5;124mstorage_options\u001b[39m\u001b[38;5;124m\"\u001b[39m, \u001b[38;5;28;01mNone\u001b[39;00m),\n\u001b[0;32m   1889\u001b[0m )\n\u001b[0;32m   1890\u001b[0m \u001b[38;5;28;01massert\u001b[39;00m \u001b[38;5;28mself\u001b[39m\u001b[38;5;241m.\u001b[39mhandles \u001b[38;5;129;01mis\u001b[39;00m \u001b[38;5;129;01mnot\u001b[39;00m \u001b[38;5;28;01mNone\u001b[39;00m\n\u001b[0;32m   1891\u001b[0m f \u001b[38;5;241m=\u001b[39m \u001b[38;5;28mself\u001b[39m\u001b[38;5;241m.\u001b[39mhandles\u001b[38;5;241m.\u001b[39mhandle\n",
      "File \u001b[1;32m~\\anaconda3\\Lib\\site-packages\\pandas\\io\\common.py:873\u001b[0m, in \u001b[0;36mget_handle\u001b[1;34m(path_or_buf, mode, encoding, compression, memory_map, is_text, errors, storage_options)\u001b[0m\n\u001b[0;32m    868\u001b[0m \u001b[38;5;28;01melif\u001b[39;00m \u001b[38;5;28misinstance\u001b[39m(handle, \u001b[38;5;28mstr\u001b[39m):\n\u001b[0;32m    869\u001b[0m     \u001b[38;5;66;03m# Check whether the filename is to be opened in binary mode.\u001b[39;00m\n\u001b[0;32m    870\u001b[0m     \u001b[38;5;66;03m# Binary mode does not support 'encoding' and 'newline'.\u001b[39;00m\n\u001b[0;32m    871\u001b[0m     \u001b[38;5;28;01mif\u001b[39;00m ioargs\u001b[38;5;241m.\u001b[39mencoding \u001b[38;5;129;01mand\u001b[39;00m \u001b[38;5;124m\"\u001b[39m\u001b[38;5;124mb\u001b[39m\u001b[38;5;124m\"\u001b[39m \u001b[38;5;129;01mnot\u001b[39;00m \u001b[38;5;129;01min\u001b[39;00m ioargs\u001b[38;5;241m.\u001b[39mmode:\n\u001b[0;32m    872\u001b[0m         \u001b[38;5;66;03m# Encoding\u001b[39;00m\n\u001b[1;32m--> 873\u001b[0m         handle \u001b[38;5;241m=\u001b[39m \u001b[38;5;28mopen\u001b[39m(\n\u001b[0;32m    874\u001b[0m             handle,\n\u001b[0;32m    875\u001b[0m             ioargs\u001b[38;5;241m.\u001b[39mmode,\n\u001b[0;32m    876\u001b[0m             encoding\u001b[38;5;241m=\u001b[39mioargs\u001b[38;5;241m.\u001b[39mencoding,\n\u001b[0;32m    877\u001b[0m             errors\u001b[38;5;241m=\u001b[39merrors,\n\u001b[0;32m    878\u001b[0m             newline\u001b[38;5;241m=\u001b[39m\u001b[38;5;124m\"\u001b[39m\u001b[38;5;124m\"\u001b[39m,\n\u001b[0;32m    879\u001b[0m         )\n\u001b[0;32m    880\u001b[0m     \u001b[38;5;28;01melse\u001b[39;00m:\n\u001b[0;32m    881\u001b[0m         \u001b[38;5;66;03m# Binary mode\u001b[39;00m\n\u001b[0;32m    882\u001b[0m         handle \u001b[38;5;241m=\u001b[39m \u001b[38;5;28mopen\u001b[39m(handle, ioargs\u001b[38;5;241m.\u001b[39mmode)\n",
      "\u001b[1;31mFileNotFoundError\u001b[0m: [Errno 2] No such file or directory: 'C:\\\\Users\\\\jliu359\\\\Downloads\\\\Hpwh\\\\Train\\\\Train\\\\Merged_HPWH_Train_1s.csv'"
     ]
    }
   ],
   "source": [
    "#  Load & preprocess dataset\n",
    "train_df = pd.read_csv(\n",
    "    r\"C:\\Users\\jliu359\\Downloads\\Hpwh\\Train\\Train\\Merged_HPWH_Train_1s.csv\",\n",
    "    parse_dates=[\"Timestamp\"]\n",
    ")\n",
    "test_df = pd.read_csv(\n",
    "    r\"C:\\Users\\jliu359\\Downloads\\Hpwh\\Test\\Test\\Merged_HPWH_Test_1s.csv\",\n",
    "    parse_dates=[\"Timestamp\"]\n",
    ")\n",
    "for df in (train_df, test_df):\n",
    "    df[\"Energy_Wh\"] = df[\"Power (W)\"].abs() / 3600.0\n",
    "    df[\"Date\"]      = df[\"Timestamp\"].dt.date\n",
    "\n",
    "def daily_mode_energy(df):\n",
    "    agg = (\n",
    "        df\n",
    "        .groupby([\"Date\", \"Operational Mode Code\"])[\"Energy_Wh\"]\n",
    "        .sum()\n",
    "        .reset_index()\n",
    "    )\n",
    "    agg[\"Energy_kWh\"] = agg[\"Energy_Wh\"] / 1000.0\n",
    "    return agg\n",
    "\n",
    "train_daily = daily_mode_energy(train_df)\n",
    "test_daily  = daily_mode_energy(test_df)\n",
    "\n",
    "#  Create pivot tables\n",
    "train_pivot = train_daily.pivot(\n",
    "    index=\"Date\",\n",
    "    columns=\"Operational Mode Code\",\n",
    "    values=\"Energy_kWh\"\n",
    ").fillna(0)\n",
    "\n",
    "test_pivot = test_daily.pivot(\n",
    "    index=\"Date\",\n",
    "    columns=\"Operational Mode Code\",\n",
    "    values=\"Energy_kWh\"\n",
    ").fillna(0)\n",
    "\n",
    "# Ensure both have the same mode columns\n",
    "all_modes = sorted(set(train_pivot.columns) | set(test_pivot.columns))\n",
    "train_pivot = train_pivot.reindex(columns=all_modes, fill_value=0)\n",
    "test_pivot  = test_pivot.reindex(columns=all_modes, fill_value=0)\n",
    "\n",
    "# Define colors for each mode\n",
    "mode_colors = {0: \"tab:blue\", 1: \"tab:orange\", 2: \"tab:green\"}\n",
    "colors = [mode_colors.get(m, \"tab:gray\") for m in all_modes]\n",
    "\n",
    "# Plot TRAIN with explicit colors\n",
    "ax = train_pivot.plot(\n",
    "    kind=\"bar\",\n",
    "    stacked=True,\n",
    "    color=colors,\n",
    "    figsize=(12, 6),\n",
    "    width=0.8,\n",
    "    edgecolor=\"black\"\n",
    ")\n",
    "ax.set_xlabel(\"Date\")\n",
    "ax.set_ylabel(\"Energy (kWh)\")\n",
    "ax.set_title(\"Train: Daily Energy Consumption by Mode\")\n",
    "ax.legend(title=\"Operational Mode Code\", bbox_to_anchor=(1.05, 1), loc=\"upper left\")\n",
    "plt.tight_layout()\n",
    "plt.show()\n",
    "\n",
    "# Plot TEST with the same colors\n",
    "ax = test_pivot.plot(\n",
    "    kind=\"bar\",\n",
    "    stacked=True,\n",
    "    color=colors,\n",
    "    figsize=(12, 6),\n",
    "    width=0.8,\n",
    "    edgecolor=\"black\"\n",
    ")\n",
    "ax.set_xlabel(\"Date\")\n",
    "ax.set_ylabel(\"Energy (kWh)\")\n",
    "ax.set_title(\"Test: Daily Energy Consumption by Mode\")\n",
    "ax.legend(title=\"Operational Mode Code\", bbox_to_anchor=(1.05, 1), loc=\"upper left\")\n",
    "plt.tight_layout()\n",
    "plt.show()"
   ]
  },
  {
   "cell_type": "code",
   "execution_count": null,
   "id": "f61cdbd1-3b93-4e06-88dc-b6797d5e09df",
   "metadata": {},
   "outputs": [],
   "source": []
  }
 ],
 "metadata": {
  "kernelspec": {
   "display_name": "Python [conda env:base] *",
   "language": "python",
   "name": "conda-base-py"
  },
  "language_info": {
   "codemirror_mode": {
    "name": "ipython",
    "version": 3
   },
   "file_extension": ".py",
   "mimetype": "text/x-python",
   "name": "python",
   "nbconvert_exporter": "python",
   "pygments_lexer": "ipython3",
   "version": "3.12.7"
  }
 },
 "nbformat": 4,
 "nbformat_minor": 5
}
